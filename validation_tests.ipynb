{
 "cells": [
  {
   "cell_type": "markdown",
   "id": "5953182b-ec51-4921-96a5-6dae65865c9b",
   "metadata": {},
   "source": [
    "### Import all the Relevant Data and Packages"
   ]
  },
  {
   "cell_type": "code",
   "execution_count": 1,
   "id": "a27ad365-5390-42a9-aa48-ecbb7dbc9d33",
   "metadata": {},
   "outputs": [],
   "source": [
    "import sib_main.sib_sub.sib_validation_main as svm\n",
    "import sib_main.sib_sub.sib_validation_imports as svi\n",
    "\n",
    "import copy\n",
    "import pandas as pd\n",
    "import geopandas as gpd\n",
    "import numpy as np\n",
    "from shapely.geometry import Polygon, Point\n",
    "from shapely.geometry.multipolygon import MultiPolygon\n",
    "from shapely.geometry.multipoint import MultiPoint\n",
    "from shapely.ops import nearest_points\n",
    "from datetime import datetime\n",
    "\n",
    "ground_truth = gpd.read_file(\"E:/SIB/validation/test_data/ground_truth.shp\")\n",
    "model_det = gpd.read_file(\"E:/SIB/validation/test_data/model_detected.shp\")\n",
    "VHRsample = gpd.read_file(\"E:/SIB/validation/test_data/VHR_parcel.shp\")\n",
    "\n",
    "export_path = \"E:/SIB/validation/test_data/\""
   ]
  },
  {
   "cell_type": "markdown",
   "id": "b381eeb6-2d05-40cd-a2bc-48cb6b0490b6",
   "metadata": {},
   "source": [
    "### Preprocess the Data"
   ]
  },
  {
   "cell_type": "code",
   "execution_count": 2,
   "id": "d0f08197-b8de-4987-8045-e7c2ca267d1d",
   "metadata": {},
   "outputs": [
    {
     "name": "stdout",
     "output_type": "stream",
     "text": [
      "90.0% of values above = 0.205318\n",
      "Accepted Geometries: 'POINT'\n",
      "Accepted Geometries: 'POINT'\n",
      "90.0% of values above = 0.205318\n",
      "Number of Ground Truth Points: 38\n",
      "Number of Model Detected Points: 31\n",
      "2\n"
     ]
    }
   ],
   "source": [
    "# Preprocess the data\n",
    "\n",
    "# 1) Confidence Filter \n",
    "svi.confidence_filter(model_det)\n",
    "\n",
    "# 2) Change 'geometry' column from 'MULTIPOINT' to 'POINT'\n",
    "ground_truth = svi.multi_to_single(ground_truth)\n",
    "model_det = svi.multi_to_single(model_det)\n",
    "\n",
    "# 3) Preprocess the data\n",
    "ground_truth, model_det = svm.preprocessing(ground_truth, model_det, conf_percentile=10)\n",
    "print(\"Number of Ground Truth Points: {}\".format(len(ground_truth)))\n",
    "print(\"Number of Model Detected Points: {}\".format(len(model_det)))\n",
    "\n",
    "# 4) Find maximum number of points within a gt_buffer\n",
    "n_ = svi.n_max(ground_truth, model_det)\n",
    "print(n_)"
   ]
  },
  {
   "cell_type": "markdown",
   "id": "bcaca5ab-5dd8-4430-b0e1-ecc17ef62a2a",
   "metadata": {},
   "source": [
    "### Test the True Positives"
   ]
  },
  {
   "cell_type": "code",
   "execution_count": 3,
   "id": "67dc5a8a-eb9f-4502-bacc-fa51bcc9a3ff",
   "metadata": {},
   "outputs": [
    {
     "name": "stderr",
     "output_type": "stream",
     "text": [
      "C:\\Users\\alexk\\anaconda3\\envs\\sib_validation\\lib\\site-packages\\pandas\\core\\dtypes\\cast.py:118: ShapelyDeprecationWarning: The array interface is deprecated and will no longer work in Shapely 2.0. Convert the '.coords' to a numpy array instead.\n",
      "  arr = construct_1d_object_array_from_listlike(values)\n"
     ]
    },
    {
     "name": "stdout",
     "output_type": "stream",
     "text": [
      "Initial True Positives, Count: 6\n",
      "Length of Model det Points originally: 31\n",
      "Length of Ground Truth Points originally: 38\n",
      "Length of TP Points originally: 6\n",
      "<class 'geopandas.geodataframe.GeoDataFrame'>\n"
     ]
    }
   ],
   "source": [
    "# Find the True Positives in the parcel\n",
    "\n",
    "# 1) Call Calculate Nearest\n",
    "# nearest_neighbour = call_calculate_nearest(ground_truth_points, model_detected_points):\n",
    "nearest_neighbour = svm.call_calculate_nearest(ground_truth, model_det)\n",
    "    \n",
    "# 2) Call Calculate Distance\n",
    "# nearest_neighbour = calculate_distance(nearest_neighbour):\n",
    "nearest_neighbour = svm.calculate_distance(nearest_neighbour)\n",
    "\n",
    "# 3) Call Calculate TP\n",
    "# nearest_neighbour, tp = calculate_tp(nearest_neighbour):\n",
    "nearest_neighbour, tp = svm.calculate_tp(nearest_neighbour)\n",
    "\n",
    "# Need to check now whether we get all six True Positives out of this.\n",
    "# To do so we will need to drop the indices of found True Positives within model_det and ground_truth.\n",
    "\n",
    "gt_copy = copy.copy(ground_truth)\n",
    "md_copy = copy.copy(model_det)\n",
    "tp_first_pass = copy.copy(tp)\n",
    "\n",
    "print(\"Length of Model det Points originally: {}\".format(len(md_copy)))\n",
    "print(\"Length of Ground Truth Points originally: {}\".format(len(gt_copy)))\n",
    "print(\"Length of TP Points originally: {}\".format(len(tp_first_pass)))\n",
    "print(type(tp))"
   ]
  },
  {
   "cell_type": "markdown",
   "id": "13282bbb-d40f-4790-99c1-250ec59d8a15",
   "metadata": {},
   "source": [
    "### Test the False Positives"
   ]
  },
  {
   "cell_type": "code",
   "execution_count": 4,
   "id": "e4248787-ade4-441e-ab44-45aab9133fc5",
   "metadata": {},
   "outputs": [
    {
     "name": "stderr",
     "output_type": "stream",
     "text": [
      "C:\\Users\\alexk\\anaconda3\\envs\\sib_validation\\lib\\site-packages\\pandas\\core\\dtypes\\cast.py:118: ShapelyDeprecationWarning: The array interface is deprecated and will no longer work in Shapely 2.0. Convert the '.coords' to a numpy array instead.\n",
      "  arr = construct_1d_object_array_from_listlike(values)\n"
     ]
    },
    {
     "name": "stdout",
     "output_type": "stream",
     "text": [
      "Initial False Positives, Count: 24\n"
     ]
    }
   ],
   "source": [
    "# Find the False Positives\n",
    "\n",
    "# Find the False Positives in the parcel\n",
    "\n",
    "# 1) Call Calculate Nearest\n",
    "# nearest_neighbour = call_calculate_nearest(ground_truth_points, model_detected_points):\n",
    "nearest_neighbour = svm.call_calculate_nearest(ground_truth, model_det)\n",
    "    \n",
    "# 2) Call Calculate Distance\n",
    "# nearest_neighbour = calculate_distance(nearest_neighbour):\n",
    "nearest_neighbour = svm.calculate_distance(nearest_neighbour)\n",
    "\n",
    "# 3) Call Calculate FP\n",
    "# nearest_neighbour, fp = calculate_fp(nearest_neighbour):\n",
    "nearest_neighbour, fp = svm.calculate_fp(nearest_neighbour)"
   ]
  },
  {
   "cell_type": "code",
   "execution_count": 5,
   "id": "8a2a86b1-ef64-4a43-8597-21b035074e3b",
   "metadata": {},
   "outputs": [
    {
     "name": "stdout",
     "output_type": "stream",
     "text": [
      "length of FP1: 24\n",
      "Type of FP1: <class 'geopandas.geodataframe.GeoDataFrame'>\n"
     ]
    }
   ],
   "source": [
    "print(\"length of FP1: {}\".format(len(fp)))\n",
    "print(\"Type of FP1: {}\".format(type(fp)))"
   ]
  },
  {
   "cell_type": "code",
   "execution_count": 6,
   "id": "fe2cce46-4923-4805-80dc-b43c35e35c7e",
   "metadata": {},
   "outputs": [
    {
     "name": "stdout",
     "output_type": "stream",
     "text": [
      "Type of FP2 is: <class 'geopandas.geodataframe.GeoDataFrame'>\n",
      "Length of FP2 is: 1\n"
     ]
    }
   ],
   "source": [
    "# False positives outside 2m buffer\n",
    "fp2 = svi.extract_points_outside_2m(ground_truth, model_det)\n",
    "print(\"Type of FP2 is: {}\".format(type(fp2)))\n",
    "print(\"Length of FP2 is: {}\".format(len(fp2)))"
   ]
  },
  {
   "cell_type": "markdown",
   "id": "40a06e7d-9209-49ec-b285-84d9c861bf98",
   "metadata": {},
   "source": [
    "### Test the Drop indices"
   ]
  },
  {
   "cell_type": "code",
   "execution_count": null,
   "id": "fb011e5f-3212-4839-925b-a104995d307d",
   "metadata": {},
   "outputs": [],
   "source": [
    "gt_copy = copy.copy(ground_truth)\n",
    "md_copy = copy.copy(model_det)\n",
    "tp_first_pass = copy.copy(tp)\n",
    "fp_first_pass = copy.copy(fp)"
   ]
  },
  {
   "cell_type": "code",
   "execution_count": null,
   "id": "11458efc-6c63-4124-aaf2-63ddd887d1fc",
   "metadata": {},
   "outputs": [],
   "source": [
    "# Now we must drop the indiced and see whats left. \n",
    "\n",
    "print(\"Length of Model det Points originally: {}\".format(len(md_copy)))\n",
    "print(\"Length of Ground Truth Points originally: {}\".format(len(gt_copy)))\n",
    "print(\"Length of TP Points originally: {}\".format(len(tp_first_pass)))\n",
    "print(\"Length of FP Points originally: {}\".format(len(fp_first_pass)))\n",
    "\n",
    "md_copy = svi.drop_indices(md_copy, tp_first_pass, outcome_value='true')\n",
    "md_copy = svi.drop_indices(md_copy, fp_first_pass, outcome_value='false')\n",
    "gt_copy = svi.drop_indices(gt_copy, tp_first_pass, outcome_value='ground')\n"
   ]
  },
  {
   "cell_type": "code",
   "execution_count": null,
   "id": "0139a44a-7901-48aa-b879-f8ab39649ba1",
   "metadata": {},
   "outputs": [],
   "source": [
    "print(\"Length of Model det Points New: {}\".format(len(md_copy)))\n",
    "print(\"Length of Ground Truth Points New: {}\".format(len(gt_copy)))\n",
    "print(\"Length of TP Points originally: {}\".format(len(tp_first_pass)))\n",
    "print(\"Length of FP Points originally: {}\".format(len(fp_first_pass)))"
   ]
  },
  {
   "cell_type": "code",
   "execution_count": null,
   "id": "1a66ea18-cb77-4e6a-9fa2-64ac152b0bd5",
   "metadata": {},
   "outputs": [],
   "source": [
    "print(\"Length of Model det Points originally: {}\".format(len(md_copy)))\n",
    "print(\"Length of Ground Truth Points originally: {}\".format(len(gt_copy)))\n",
    "print(\"Length of TP Points originally: {}\".format(len(tp_first_pass)))\n",
    "print(\"Length of FP Points originally: {}\".format(len(fp_first_pass)))\n",
    "\n",
    "for i in range(0, 6):\n",
    "    \n",
    "    md_copy = svi.drop_indices(md_copy, tp_first_pass, outcome_value='true')\n",
    "    md_copy = svi.drop_indices(md_copy, fp_first_pass, outcome_value='false')\n",
    "    gt_copy = svi.drop_indices(gt_copy, tp_first_pass, outcome_value='ground')\n",
    "    "
   ]
  },
  {
   "cell_type": "code",
   "execution_count": null,
   "id": "611f87e9-8371-4236-86b3-9694664b01c8",
   "metadata": {},
   "outputs": [],
   "source": [
    "print(\"Length of Model det Points New: {}\".format(len(md_copy)))\n",
    "print(\"Length of Ground Truth Points New: {}\".format(len(gt_copy)))\n",
    "print(\"Length of TP Points originally: {}\".format(len(tp_first_pass)))\n",
    "print(\"Length of FP Points originally: {}\".format(len(fp_first_pass)))"
   ]
  },
  {
   "cell_type": "markdown",
   "id": "7cc56ad8-aecb-413f-89d5-0f03efe560d6",
   "metadata": {},
   "source": [
    "### Test the create_global_GeoDataFrame"
   ]
  },
  {
   "cell_type": "code",
   "execution_count": 7,
   "id": "66bf4330-7bd6-4d87-b177-d54439e7eaef",
   "metadata": {},
   "outputs": [],
   "source": [
    "# Test the global GeoDataFrame\n",
    "\n",
    "global_fp_list = []\n",
    "\n",
    "fp1_dict = fp.to_dict('list')\n",
    "global_fp_list.append(fp1_dict)\n",
    "\n",
    "fp2_dict = fp2.to_dict('list')\n",
    "global_fp_list.append(fp2_dict)\n"
   ]
  },
  {
   "cell_type": "code",
   "execution_count": 8,
   "id": "f6c5f108-1e0c-451e-88f6-2339bafe1535",
   "metadata": {
    "tags": []
   },
   "outputs": [
    {
     "data": {
      "text/plain": [
       "2"
      ]
     },
     "execution_count": 8,
     "metadata": {},
     "output_type": "execute_result"
    }
   ],
   "source": [
    "len(global_fp_list)"
   ]
  },
  {
   "cell_type": "code",
   "execution_count": 9,
   "id": "1b8d8cd7-0758-4eeb-b2d5-b906ad58e4ed",
   "metadata": {},
   "outputs": [
    {
     "name": "stderr",
     "output_type": "stream",
     "text": [
      "C:\\Users\\alexk\\anaconda3\\envs\\sib_validation\\lib\\site-packages\\pandas\\core\\dtypes\\cast.py:118: ShapelyDeprecationWarning: The array interface is deprecated and will no longer work in Shapely 2.0. Convert the '.coords' to a numpy array instead.\n",
      "  arr = construct_1d_object_array_from_listlike(values)\n"
     ]
    }
   ],
   "source": [
    "global_fp_df = svi.create_global_GeoDataFrame(global_fp_list)"
   ]
  },
  {
   "cell_type": "code",
   "execution_count": 10,
   "id": "12f16aed-58a3-4f02-a35c-826e362f39b6",
   "metadata": {},
   "outputs": [
    {
     "name": "stdout",
     "output_type": "stream",
     "text": [
      "Total False Positives inside buffer: 24\n",
      "Total False Positives outside buffer: 1\n",
      "Total amount of False Positives in Global GeoDataFrame: 25\n"
     ]
    }
   ],
   "source": [
    "print(\"Total False Positives inside buffer: {}\".format(len(fp)))\n",
    "print(\"Total False Positives outside buffer: {}\".format(len(fp2)))\n",
    "print(\"Total amount of False Positives in Global GeoDataFrame: {}\".format(len(global_fp_df)))"
   ]
  },
  {
   "cell_type": "markdown",
   "id": "24af5c60-23bf-4048-ad04-4552025001fa",
   "metadata": {},
   "source": [
    "### Test the False Negatives"
   ]
  },
  {
   "cell_type": "code",
   "execution_count": 11,
   "id": "4217a314-dd4f-4231-b804-336f01752911",
   "metadata": {},
   "outputs": [
    {
     "name": "stdout",
     "output_type": "stream",
     "text": [
      "Length of TP: 6\n",
      "Length of FP: 25\n",
      "\n",
      "\n"
     ]
    }
   ],
   "source": [
    "# False Negatives\n",
    "\n",
    "gt_copy = copy.copy(ground_truth)\n",
    "md_copy = copy.copy(model_det)\n",
    "print(\"Length of TP: {}\".format(len(tp)))\n",
    "print(\"Length of FP: {}\".format(len(global_fp_df)))\n",
    "print(\"\\n\")"
   ]
  },
  {
   "cell_type": "code",
   "execution_count": 12,
   "id": "ee5cd21a-4d69-43e2-af4b-6a3d44b61b8e",
   "metadata": {},
   "outputs": [
    {
     "name": "stdout",
     "output_type": "stream",
     "text": [
      "Length of Ground Truth originally: 38\n",
      "Length of 'Ground Truth points' after TP rows dropped: 32\n",
      "\n",
      "Length of Ground Truth after TP dropped: 32\n",
      "Length of 'Ground Truth points' after FP rows dropped: 8\n",
      "\n",
      "Length of Ground Truth after FP dropped: 8\n",
      "Length of 'model_det' after TP rows dropped: 25\n",
      "\n",
      "Length of 'model_det' after FP rows dropped: 0\n",
      "\n"
     ]
    }
   ],
   "source": [
    "print(\"Length of Ground Truth originally: {}\".format(len(ground_truth)))\n",
    "\n",
    "gt_copy = svi.drop_indices(gt_copy, tp, outcome_value='ground')\n",
    "print(\"Length of Ground Truth after TP dropped: {}\".format(len(gt_copy)))\n",
    "\n",
    "gt_copy = svi.drop_indices(gt_copy, global_fp_df, outcome_value='ground')\n",
    "print(\"Length of Ground Truth after FP dropped: {}\".format(len(gt_copy)))\n",
    "\n",
    "\n",
    "md_copy = svi.drop_indices(md_copy, tp, outcome_value='true')\n",
    "md_copy = svi.drop_indices(md_copy, global_fp_df, outcome_value='false')\n"
   ]
  },
  {
   "cell_type": "code",
   "execution_count": 13,
   "id": "1b5d1765-364f-4a00-9a9e-74fe2d5b9579",
   "metadata": {},
   "outputs": [],
   "source": [
    "fn = svm.calculate_fn(gt_copy, md_copy)"
   ]
  },
  {
   "cell_type": "code",
   "execution_count": 14,
   "id": "1074c239-9d3e-4789-a24f-e782fcb40862",
   "metadata": {},
   "outputs": [
    {
     "data": {
      "text/html": [
       "<div>\n",
       "<style scoped>\n",
       "    .dataframe tbody tr th:only-of-type {\n",
       "        vertical-align: middle;\n",
       "    }\n",
       "\n",
       "    .dataframe tbody tr th {\n",
       "        vertical-align: top;\n",
       "    }\n",
       "\n",
       "    .dataframe thead th {\n",
       "        text-align: right;\n",
       "    }\n",
       "</style>\n",
       "<table border=\"1\" class=\"dataframe\">\n",
       "  <thead>\n",
       "    <tr style=\"text-align: right;\">\n",
       "      <th></th>\n",
       "      <th>class</th>\n",
       "      <th>gt_ID</th>\n",
       "      <th>geometry</th>\n",
       "      <th>n</th>\n",
       "    </tr>\n",
       "  </thead>\n",
       "  <tbody>\n",
       "    <tr>\n",
       "      <th>13</th>\n",
       "      <td>sheep</td>\n",
       "      <td>13</td>\n",
       "      <td>POLYGON ((274379.003 396456.500, 274378.993 39...</td>\n",
       "      <td>0</td>\n",
       "    </tr>\n",
       "    <tr>\n",
       "      <th>24</th>\n",
       "      <td>sheep</td>\n",
       "      <td>24</td>\n",
       "      <td>POLYGON ((274385.753 396440.250, 274385.743 39...</td>\n",
       "      <td>0</td>\n",
       "    </tr>\n",
       "    <tr>\n",
       "      <th>25</th>\n",
       "      <td>sheep</td>\n",
       "      <td>25</td>\n",
       "      <td>POLYGON ((274384.253 396441.250, 274384.243 39...</td>\n",
       "      <td>0</td>\n",
       "    </tr>\n",
       "    <tr>\n",
       "      <th>26</th>\n",
       "      <td>sheep</td>\n",
       "      <td>26</td>\n",
       "      <td>POLYGON ((274389.503 396439.000, 274389.493 39...</td>\n",
       "      <td>0</td>\n",
       "    </tr>\n",
       "    <tr>\n",
       "      <th>28</th>\n",
       "      <td>sheep</td>\n",
       "      <td>31</td>\n",
       "      <td>POLYGON ((274454.753 396521.750, 274454.743 39...</td>\n",
       "      <td>0</td>\n",
       "    </tr>\n",
       "    <tr>\n",
       "      <th>29</th>\n",
       "      <td>sheep</td>\n",
       "      <td>32</td>\n",
       "      <td>POLYGON ((274442.503 396515.500, 274442.493 39...</td>\n",
       "      <td>0</td>\n",
       "    </tr>\n",
       "    <tr>\n",
       "      <th>30</th>\n",
       "      <td>sheep</td>\n",
       "      <td>34</td>\n",
       "      <td>POLYGON ((274449.503 396515.750, 274449.493 39...</td>\n",
       "      <td>0</td>\n",
       "    </tr>\n",
       "    <tr>\n",
       "      <th>31</th>\n",
       "      <td>sheep</td>\n",
       "      <td>36</td>\n",
       "      <td>POLYGON ((274449.753 396514.250, 274449.743 39...</td>\n",
       "      <td>0</td>\n",
       "    </tr>\n",
       "  </tbody>\n",
       "</table>\n",
       "</div>"
      ],
      "text/plain": [
       "    class  gt_ID                                           geometry  n\n",
       "13  sheep     13  POLYGON ((274379.003 396456.500, 274378.993 39...  0\n",
       "24  sheep     24  POLYGON ((274385.753 396440.250, 274385.743 39...  0\n",
       "25  sheep     25  POLYGON ((274384.253 396441.250, 274384.243 39...  0\n",
       "26  sheep     26  POLYGON ((274389.503 396439.000, 274389.493 39...  0\n",
       "28  sheep     31  POLYGON ((274454.753 396521.750, 274454.743 39...  0\n",
       "29  sheep     32  POLYGON ((274442.503 396515.500, 274442.493 39...  0\n",
       "30  sheep     34  POLYGON ((274449.503 396515.750, 274449.493 39...  0\n",
       "31  sheep     36  POLYGON ((274449.753 396514.250, 274449.743 39...  0"
      ]
     },
     "execution_count": 14,
     "metadata": {},
     "output_type": "execute_result"
    }
   ],
   "source": [
    "fn"
   ]
  },
  {
   "cell_type": "code",
   "execution_count": 15,
   "id": "704c4a3a-c735-49a2-a8f8-d105efa44734",
   "metadata": {},
   "outputs": [
    {
     "name": "stdout",
     "output_type": "stream",
     "text": [
      "Exported to Local Drive\n"
     ]
    }
   ],
   "source": [
    "svm.export_GeoDataFrame(export_path, fn, file_name=\"fn\", extension='.shp')"
   ]
  },
  {
   "cell_type": "code",
   "execution_count": null,
   "id": "fc2c014b-1a3c-4631-980b-a78e6cc02291",
   "metadata": {},
   "outputs": [],
   "source": []
  }
 ],
 "metadata": {
  "kernelspec": {
   "display_name": "Python 3 (ipykernel)",
   "language": "python",
   "name": "python3"
  },
  "language_info": {
   "codemirror_mode": {
    "name": "ipython",
    "version": 3
   },
   "file_extension": ".py",
   "mimetype": "text/x-python",
   "name": "python",
   "nbconvert_exporter": "python",
   "pygments_lexer": "ipython3",
   "version": "3.8.12"
  }
 },
 "nbformat": 4,
 "nbformat_minor": 5
}
